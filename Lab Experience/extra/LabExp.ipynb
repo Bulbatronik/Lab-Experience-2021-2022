{
 "cells": [
  {
   "cell_type": "markdown",
   "id": "5372ca8b",
   "metadata": {},
   "source": [
    "# General code"
   ]
  },
  {
   "cell_type": "code",
   "execution_count": 4,
   "id": "6c6ac032",
   "metadata": {},
   "outputs": [],
   "source": [
    "import pickle\n",
    "file = open(\"./dati/10-47-45.yd\", \"rb\")\n",
    "final_data = pickle.load(file)\n",
    "file.close()\n",
    "\n",
    "data = []\n",
    "for i in range(len(final_data)):\n",
    "    row = []\n",
    "    for j in range(len(final_data[i][0])):\n",
    "        if 12 > final_data[i][1][j] > -12:\n",
    "            row.append([final_data[i][0][j], final_data[i][1][j]])\n",
    "            \n",
    "    # filter distance 0\n",
    "    row = list(filter(lambda xa: xa[1] != 0.0, row))\n",
    "    data.append(row)"
   ]
  },
  {
   "cell_type": "code",
   "execution_count": 7,
   "id": "68d6c671",
   "metadata": {},
   "outputs": [
    {
     "name": "stdout",
     "output_type": "stream",
     "text": [
      "10-47-45.yd\n",
      "10-49-46.yd\n",
      "10-59-30.yd\n",
      "11-01-20.yd\n",
      "11-02-50.yd\n",
      "11-06-12.yd\n",
      "11-06-51.yd\n",
      "11-07-43.yd\n",
      "11-08-41.yd\n"
     ]
    }
   ],
   "source": [
    "import pickle\n",
    "import os\n",
    "from scipy.io import savemat\n",
    "\n",
    "index = 0\n",
    "\n",
    "basepath = \"./dati/\"\n",
    "for filename in os.listdir(basepath):\n",
    "    print(filename)\n",
    "    file = open(basepath+filename, \"rb\")\n",
    "    final_data = pickle.load(file)\n",
    "    file.close()\n",
    "    \n",
    "    data = []\n",
    "    for i in range(len(final_data)):\n",
    "        row = []\n",
    "        for j in range(len(final_data[i][0])):\n",
    "            if 12 > final_data[i][1][j] > -12:\n",
    "                row.append([final_data[i][0][j], final_data[i][1][j]])\n",
    "        # filter distance 0\n",
    "        row = list(filter(lambda xa: xa[1] != 0.0, row))\n",
    "        data.append(row)\n",
    "    \n",
    "    dic = {\"Z\"+str(index): data}\n",
    "    savemat(str(filename) +\".mat\", dic, oned_as='column')\n",
    "    index += 1"
   ]
  },
  {
   "cell_type": "markdown",
   "id": "0ff6b951",
   "metadata": {},
   "source": [
    "# Save data to mat file"
   ]
  },
  {
   "cell_type": "code",
   "execution_count": 1,
   "id": "a50ce7cc",
   "metadata": {},
   "outputs": [
    {
     "name": "stdout",
     "output_type": "stream",
     "text": [
      "11-09-27.yd\n"
     ]
    },
    {
     "name": "stderr",
     "output_type": "stream",
     "text": [
      "D:\\anaconda3\\lib\\site-packages\\numpy\\core\\_asarray.py:171: VisibleDeprecationWarning: Creating an ndarray from ragged nested sequences (which is a list-or-tuple of lists-or-tuples-or ndarrays with different lengths or shapes) is deprecated. If you meant to do this, you must specify 'dtype=object' when creating the ndarray.\n",
      "  return array(a, dtype, copy=False, order=order, subok=True)\n"
     ]
    }
   ],
   "source": [
    "import pickle\n",
    "import os\n",
    "from scipy.io import savemat\n",
    "\n",
    "index = 0\n",
    "\n",
    "basepath = \"C:/Users/Asus/Desktop/Lab Experience/LIDAR_NEW/\"\n",
    "for filename in os.listdir(basepath):\n",
    "    print(filename)\n",
    "    file = open(basepath+filename, \"rb\")\n",
    "    final_data = pickle.load(file)\n",
    "    file.close()\n",
    "    \n",
    "    data = []\n",
    "    for i in range(len(final_data)):\n",
    "        row = []\n",
    "        for j in range(len(final_data[i][0])):\n",
    "            if 12 > final_data[i][1][j] > -12:\n",
    "                row.append([final_data[i][0][j], final_data[i][1][j]])\n",
    "        # filter distance 0\n",
    "        row = list(filter(lambda xa: xa[1] != 0.0, row))\n",
    "        data.append(row)\n",
    "    \n",
    "    dic = {\"Z\": data}\n",
    "    savemat(str(filename).replace('.yd', '') + \".mat\", dic, oned_as='column')\n",
    "    index += 1"
   ]
  },
  {
   "cell_type": "markdown",
   "id": "268e317a",
   "metadata": {},
   "source": [
    "# GPS data"
   ]
  },
  {
   "cell_type": "code",
   "execution_count": 10,
   "id": "95f829f8",
   "metadata": {},
   "outputs": [],
   "source": [
    "import pandas as pd\n",
    "df = pd.read_csv ('swift-gnss-20220409-110943.csv')"
   ]
  },
  {
   "cell_type": "code",
   "execution_count": 11,
   "id": "b4e4ad6e",
   "metadata": {},
   "outputs": [
    {
     "data": {
      "text/html": [
       "<div>\n",
       "<style scoped>\n",
       "    .dataframe tbody tr th:only-of-type {\n",
       "        vertical-align: middle;\n",
       "    }\n",
       "\n",
       "    .dataframe tbody tr th {\n",
       "        vertical-align: top;\n",
       "    }\n",
       "\n",
       "    .dataframe thead th {\n",
       "        text-align: right;\n",
       "    }\n",
       "</style>\n",
       "<table border=\"1\" class=\"dataframe\">\n",
       "  <thead>\n",
       "    <tr style=\"text-align: right;\">\n",
       "      <th></th>\n",
       "      <th>GPS Week</th>\n",
       "      <th>GPS TOW [s]</th>\n",
       "      <th>Pos Mode</th>\n",
       "      <th>INS Mode</th>\n",
       "      <th>Hdg Mode</th>\n",
       "      <th>SVs Tracked</th>\n",
       "      <th>SVs Used</th>\n",
       "      <th>UTC Date</th>\n",
       "      <th>UTC Time</th>\n",
       "      <th>Lat [deg]</th>\n",
       "      <th>...</th>\n",
       "      <th>EHPE [m]</th>\n",
       "      <th>EVPE [m]</th>\n",
       "      <th>EHVE [m/s]</th>\n",
       "      <th>EVVE [m/s]</th>\n",
       "      <th>Baseline 2D [m]</th>\n",
       "      <th>Baseline 3D [m]</th>\n",
       "      <th>Corr. Age [s]</th>\n",
       "      <th>Delta TOW [ms]</th>\n",
       "      <th>2D Delta Pos [m]</th>\n",
       "      <th>3D Delta Pos [m]</th>\n",
       "    </tr>\n",
       "  </thead>\n",
       "  <tbody>\n",
       "    <tr>\n",
       "      <th>0</th>\n",
       "      <td>2204</td>\n",
       "      <td>551401.0</td>\n",
       "      <td>3</td>\n",
       "      <td>0</td>\n",
       "      <td>NaN</td>\n",
       "      <td>NaN</td>\n",
       "      <td>15</td>\n",
       "      <td>2022-04-09</td>\n",
       "      <td>09:09:43.000</td>\n",
       "      <td>45.478529</td>\n",
       "      <td>...</td>\n",
       "      <td>0.15</td>\n",
       "      <td>0.25</td>\n",
       "      <td>0.12</td>\n",
       "      <td>0.21</td>\n",
       "      <td>111.518</td>\n",
       "      <td>112.317</td>\n",
       "      <td>1.0</td>\n",
       "      <td>NaN</td>\n",
       "      <td>NaN</td>\n",
       "      <td>NaN</td>\n",
       "    </tr>\n",
       "    <tr>\n",
       "      <th>1</th>\n",
       "      <td>2204</td>\n",
       "      <td>551401.1</td>\n",
       "      <td>3</td>\n",
       "      <td>0</td>\n",
       "      <td>NaN</td>\n",
       "      <td>NaN</td>\n",
       "      <td>15</td>\n",
       "      <td>2022-04-09</td>\n",
       "      <td>09:09:43.100</td>\n",
       "      <td>45.478529</td>\n",
       "      <td>...</td>\n",
       "      <td>0.15</td>\n",
       "      <td>0.24</td>\n",
       "      <td>0.12</td>\n",
       "      <td>0.21</td>\n",
       "      <td>111.518</td>\n",
       "      <td>112.317</td>\n",
       "      <td>1.1</td>\n",
       "      <td>100.0</td>\n",
       "      <td>0.001</td>\n",
       "      <td>0.001</td>\n",
       "    </tr>\n",
       "    <tr>\n",
       "      <th>2</th>\n",
       "      <td>2204</td>\n",
       "      <td>551401.2</td>\n",
       "      <td>3</td>\n",
       "      <td>0</td>\n",
       "      <td>NaN</td>\n",
       "      <td>30.0</td>\n",
       "      <td>15</td>\n",
       "      <td>2022-04-09</td>\n",
       "      <td>09:09:43.200</td>\n",
       "      <td>45.478529</td>\n",
       "      <td>...</td>\n",
       "      <td>0.14</td>\n",
       "      <td>0.24</td>\n",
       "      <td>0.12</td>\n",
       "      <td>0.21</td>\n",
       "      <td>111.518</td>\n",
       "      <td>112.317</td>\n",
       "      <td>1.2</td>\n",
       "      <td>100.0</td>\n",
       "      <td>0.002</td>\n",
       "      <td>0.003</td>\n",
       "    </tr>\n",
       "    <tr>\n",
       "      <th>3</th>\n",
       "      <td>2204</td>\n",
       "      <td>551401.3</td>\n",
       "      <td>3</td>\n",
       "      <td>0</td>\n",
       "      <td>NaN</td>\n",
       "      <td>NaN</td>\n",
       "      <td>15</td>\n",
       "      <td>2022-04-09</td>\n",
       "      <td>09:09:43.300</td>\n",
       "      <td>45.478529</td>\n",
       "      <td>...</td>\n",
       "      <td>0.14</td>\n",
       "      <td>0.24</td>\n",
       "      <td>0.12</td>\n",
       "      <td>0.21</td>\n",
       "      <td>111.514</td>\n",
       "      <td>112.313</td>\n",
       "      <td>1.3</td>\n",
       "      <td>100.0</td>\n",
       "      <td>0.004</td>\n",
       "      <td>0.006</td>\n",
       "    </tr>\n",
       "    <tr>\n",
       "      <th>4</th>\n",
       "      <td>2204</td>\n",
       "      <td>551401.4</td>\n",
       "      <td>3</td>\n",
       "      <td>0</td>\n",
       "      <td>NaN</td>\n",
       "      <td>NaN</td>\n",
       "      <td>15</td>\n",
       "      <td>2022-04-09</td>\n",
       "      <td>09:09:43.400</td>\n",
       "      <td>45.478529</td>\n",
       "      <td>...</td>\n",
       "      <td>0.15</td>\n",
       "      <td>0.25</td>\n",
       "      <td>0.12</td>\n",
       "      <td>0.21</td>\n",
       "      <td>111.504</td>\n",
       "      <td>112.303</td>\n",
       "      <td>1.4</td>\n",
       "      <td>100.0</td>\n",
       "      <td>0.010</td>\n",
       "      <td>0.010</td>\n",
       "    </tr>\n",
       "  </tbody>\n",
       "</table>\n",
       "<p>5 rows × 32 columns</p>\n",
       "</div>"
      ],
      "text/plain": [
       "   GPS Week  GPS TOW [s]  Pos Mode  INS Mode  Hdg Mode  SVs Tracked  SVs Used  \\\n",
       "0      2204     551401.0         3         0       NaN          NaN        15   \n",
       "1      2204     551401.1         3         0       NaN          NaN        15   \n",
       "2      2204     551401.2         3         0       NaN         30.0        15   \n",
       "3      2204     551401.3         3         0       NaN          NaN        15   \n",
       "4      2204     551401.4         3         0       NaN          NaN        15   \n",
       "\n",
       "     UTC Date      UTC Time  Lat [deg]  ...  EHPE [m]  EVPE [m]  EHVE [m/s]  \\\n",
       "0  2022-04-09  09:09:43.000  45.478529  ...      0.15      0.25        0.12   \n",
       "1  2022-04-09  09:09:43.100  45.478529  ...      0.15      0.24        0.12   \n",
       "2  2022-04-09  09:09:43.200  45.478529  ...      0.14      0.24        0.12   \n",
       "3  2022-04-09  09:09:43.300  45.478529  ...      0.14      0.24        0.12   \n",
       "4  2022-04-09  09:09:43.400  45.478529  ...      0.15      0.25        0.12   \n",
       "\n",
       "   EVVE [m/s]  Baseline 2D [m]  Baseline 3D [m]  Corr. Age [s]  \\\n",
       "0        0.21          111.518          112.317            1.0   \n",
       "1        0.21          111.518          112.317            1.1   \n",
       "2        0.21          111.518          112.317            1.2   \n",
       "3        0.21          111.514          112.313            1.3   \n",
       "4        0.21          111.504          112.303            1.4   \n",
       "\n",
       "   Delta TOW [ms]  2D Delta Pos [m]  3D Delta Pos [m]  \n",
       "0             NaN               NaN               NaN  \n",
       "1           100.0             0.001             0.001  \n",
       "2           100.0             0.002             0.003  \n",
       "3           100.0             0.004             0.006  \n",
       "4           100.0             0.010             0.010  \n",
       "\n",
       "[5 rows x 32 columns]"
      ]
     },
     "execution_count": 11,
     "metadata": {},
     "output_type": "execute_result"
    }
   ],
   "source": [
    "df.head()"
   ]
  },
  {
   "cell_type": "code",
   "execution_count": 8,
   "id": "901f9548",
   "metadata": {},
   "outputs": [
    {
     "data": {
      "text/plain": [
       "<bound method DataFrame.info of       GPS Week  GPS TOW [s]  Pos Mode  INS Mode  Hdg Mode  SVs Tracked  \\\n",
       "0         2204     551401.0         3         0       NaN          NaN   \n",
       "1         2204     551401.1         3         0       NaN          NaN   \n",
       "2         2204     551401.2         3         0       NaN         30.0   \n",
       "3         2204     551401.3         3         0       NaN          NaN   \n",
       "4         2204     551401.4         3         0       NaN          NaN   \n",
       "...        ...          ...       ...       ...       ...          ...   \n",
       "4021      2204     551803.1         3         0       NaN          NaN   \n",
       "4022      2204     551803.2         3         0       NaN         23.0   \n",
       "4023      2204     551803.3         3         0       NaN          NaN   \n",
       "4024      2204     551803.4         3         0       NaN          NaN   \n",
       "4025      2204     551803.5         3         0       NaN          NaN   \n",
       "\n",
       "      SVs Used    UTC Date      UTC Time  Lat [deg]  ...  EHPE [m]  EVPE [m]  \\\n",
       "0           15  2022-04-09  09:09:43.000  45.478529  ...      0.15      0.25   \n",
       "1           15  2022-04-09  09:09:43.100  45.478529  ...      0.15      0.24   \n",
       "2           15  2022-04-09  09:09:43.200  45.478529  ...      0.14      0.24   \n",
       "3           15  2022-04-09  09:09:43.300  45.478529  ...      0.14      0.24   \n",
       "4           15  2022-04-09  09:09:43.400  45.478529  ...      0.15      0.25   \n",
       "...        ...         ...           ...        ...  ...       ...       ...   \n",
       "4021        15  2022-04-09  09:16:25.100  45.478547  ...      0.63      1.03   \n",
       "4022        15  2022-04-09  09:16:25.200  45.478545  ...      0.63      1.03   \n",
       "4023        15  2022-04-09  09:16:25.300  45.478543  ...      0.52      0.85   \n",
       "4024        15  2022-04-09  09:16:25.400  45.478541  ...      0.54      0.81   \n",
       "4025        15  2022-04-09  09:16:25.500  45.478539  ...      0.51      0.76   \n",
       "\n",
       "      EHVE [m/s]  EVVE [m/s]  Baseline 2D [m]  Baseline 3D [m]  Corr. Age [s]  \\\n",
       "0           0.12        0.21          111.518          112.317            1.0   \n",
       "1           0.12        0.21          111.518          112.317            1.1   \n",
       "2           0.12        0.21          111.518          112.317            1.2   \n",
       "3           0.12        0.21          111.514          112.313            1.3   \n",
       "4           0.12        0.21          111.504          112.303            1.4   \n",
       "...          ...         ...              ...              ...            ...   \n",
       "4021        0.49        0.75          110.199          110.963           12.1   \n",
       "4022        0.48        0.75          110.339          111.105           12.2   \n",
       "4023        0.21        0.35          110.459          111.224           12.3   \n",
       "4024        0.21        0.35          110.556          111.313            0.4   \n",
       "4025        0.18        0.28              NaN              NaN            NaN   \n",
       "\n",
       "      Delta TOW [ms]  2D Delta Pos [m]  3D Delta Pos [m]  \n",
       "0                NaN               NaN               NaN  \n",
       "1              100.0             0.001             0.001  \n",
       "2              100.0             0.002             0.003  \n",
       "3              100.0             0.004             0.006  \n",
       "4              100.0             0.010             0.010  \n",
       "...              ...               ...               ...  \n",
       "4021           100.0             0.261             0.261  \n",
       "4022           100.0             0.246             0.247  \n",
       "4023           100.0             0.239             0.239  \n",
       "4024           100.0             0.224             0.232  \n",
       "4025           100.0             0.239             0.242  \n",
       "\n",
       "[4026 rows x 32 columns]>"
      ]
     },
     "execution_count": 8,
     "metadata": {},
     "output_type": "execute_result"
    }
   ],
   "source": [
    "\n",
    "df.info"
   ]
  },
  {
   "cell_type": "code",
   "execution_count": 13,
   "id": "827cea73",
   "metadata": {},
   "outputs": [
    {
     "data": {
      "text/plain": [
       "Index(['GPS Week', 'GPS TOW [s]', 'Pos Mode', 'INS Mode', 'Hdg Mode',\n",
       "       'SVs Tracked', 'SVs Used', 'UTC Date', 'UTC Time', 'Lat [deg]',\n",
       "       'Lon [deg]', 'Alt Ellips [m]', 'SOG [m/s]', 'COG [deg]', 'Hdg [deg]',\n",
       "       'Horiz Vel [m/s]', 'Vert Vel [m/s]', 'Roll [deg]', 'Pitch [deg]',\n",
       "       'Yaw [deg]', 'PDOP', 'HDOP', 'EHPE [m]', 'EVPE [m]', 'EHVE [m/s]',\n",
       "       'EVVE [m/s]', 'Baseline 2D [m]', 'Baseline 3D [m]', 'Corr. Age [s]',\n",
       "       'Delta TOW [ms]', '2D Delta Pos [m]', '3D Delta Pos [m]'],\n",
       "      dtype='object')"
      ]
     },
     "execution_count": 13,
     "metadata": {},
     "output_type": "execute_result"
    }
   ],
   "source": [
    "df.columns"
   ]
  },
  {
   "cell_type": "code",
   "execution_count": 15,
   "id": "e93c900f",
   "metadata": {},
   "outputs": [
    {
     "name": "stdout",
     "output_type": "stream",
     "text": [
      "      Lat [deg]  Lon [deg]  Hdg [deg]\n",
      "0     45.478529   9.230557        NaN\n",
      "1     45.478529   9.230557        NaN\n",
      "2     45.478529   9.230557        NaN\n",
      "3     45.478529   9.230557        NaN\n",
      "4     45.478529   9.230558        NaN\n",
      "...         ...        ...        ...\n",
      "4021  45.478547   9.230573        NaN\n",
      "4022  45.478545   9.230571        NaN\n",
      "4023  45.478543   9.230570        NaN\n",
      "4024  45.478541   9.230569        NaN\n",
      "4025  45.478539   9.230568        NaN\n",
      "\n",
      "[4026 rows x 3 columns]\n"
     ]
    }
   ],
   "source": [
    "print(df[['Lat [deg]', 'Lon [deg]', 'Hdg [deg]']])"
   ]
  },
  {
   "cell_type": "code",
   "execution_count": 18,
   "id": "027951dc",
   "metadata": {},
   "outputs": [
    {
     "data": {
      "text/plain": [
       "4026"
      ]
     },
     "execution_count": 18,
     "metadata": {},
     "output_type": "execute_result"
    }
   ],
   "source": [
    "df['Hdg [deg]'].isna().sum()"
   ]
  }
 ],
 "metadata": {
  "kernelspec": {
   "display_name": "Python 3 (ipykernel)",
   "language": "python",
   "name": "python3"
  },
  "language_info": {
   "codemirror_mode": {
    "name": "ipython",
    "version": 3
   },
   "file_extension": ".py",
   "mimetype": "text/x-python",
   "name": "python",
   "nbconvert_exporter": "python",
   "pygments_lexer": "ipython3",
   "version": "3.9.7"
  }
 },
 "nbformat": 4,
 "nbformat_minor": 5
}
